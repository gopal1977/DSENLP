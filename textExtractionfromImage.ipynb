{
  "nbformat": 4,
  "nbformat_minor": 0,
  "metadata": {
    "colab": {
      "name": "Untitled1.ipynb",
      "provenance": [],
      "collapsed_sections": [],
      "authorship_tag": "ABX9TyNHpgNNNvVcrwPusfybQHEO",
      "include_colab_link": true
    },
    "kernelspec": {
      "name": "python3",
      "display_name": "Python 3"
    },
    "language_info": {
      "name": "python"
    }
  },
  "cells": [
    {
      "cell_type": "markdown",
      "metadata": {
        "id": "view-in-github",
        "colab_type": "text"
      },
      "source": [
        "<a href=\"https://colab.research.google.com/github/gopal1977/DSENLP/blob/main/textExtractionfromImage.ipynb\" target=\"_parent\"><img src=\"https://colab.research.google.com/assets/colab-badge.svg\" alt=\"Open In Colab\"/></a>"
      ]
    },
    {
      "cell_type": "code",
      "source": [
        "from PIL import Image\n",
        "from pytesseract import pytesseract\n",
        "\n",
        "# Defining paths to tesseract.exe\n",
        "# and the image we would be using\n",
        "path_to_tesseract = \"C:\\\\Program Files\\\\Tesseract-OCR\\\\tesseract.exe\"\n",
        "image_path = 'C:\\Users\\91961\\\\Page17Image.png'\n",
        "  \n",
        "# Opening the image & storing it in an image object\n",
        "img = Image.open(image_path)\n",
        "  \n",
        "# Providing the tesseract executable\n",
        "# location to pytesseract library\n",
        "pytesseract.tesseract_cmd = path_to_tesseract\n",
        "  \n",
        "# Passing the image object to image_to_string() function\n",
        "# This function will extract the text from the image\n",
        "text = pytesseract.image_to_string(img)\n",
        "  \n",
        "# Displaying the extracted text\n",
        "print(text[:-1])\n",
        "\n",
        "  \n",
        "# Passing the image object to image_to_string() function\n",
        "# This function will extract the text from the image\n",
        "text = pytesseract.image_to_string(img)\n",
        "  \n",
        "# Displaying the extracted text\n",
        "print(text[:-1])"
      ],
      "metadata": {
        "colab": {
          "base_uri": "https://localhost:8080/",
          "height": 131
        },
        "id": "lFANaLEGIC5-",
        "outputId": "65656397-e584-44be-c3c7-ff0252506b64"
      },
      "execution_count": 32,
      "outputs": [
        {
          "output_type": "error",
          "ename": "SyntaxError",
          "evalue": "ignored",
          "traceback": [
            "\u001b[0;36m  File \u001b[0;32m\"<ipython-input-32-0db899d1c423>\"\u001b[0;36m, line \u001b[0;32m8\u001b[0m\n\u001b[0;31m    image_path = 'C:\\Users\\91961\\\\Page17Image.png'\u001b[0m\n\u001b[0m                ^\u001b[0m\n\u001b[0;31mSyntaxError\u001b[0m\u001b[0;31m:\u001b[0m (unicode error) 'unicodeescape' codec can't decode bytes in position 2-3: truncated \\UXXXXXXXX escape\n"
          ]
        }
      ]
    }
  ]
}